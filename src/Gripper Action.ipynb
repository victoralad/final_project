{
 "cells": [
  {
   "cell_type": "code",
   "execution_count": 1,
   "metadata": {},
   "outputs": [
    {
     "name": "stdout",
     "output_type": "stream",
     "text": [
      "Node init done\n"
     ]
    }
   ],
   "source": [
    "import rospy\n",
    "import actionlib\n",
    "\n",
    "from control_msgs.msg import GripperCommandAction, GripperCommandGoal\n",
    "\n",
    "rospy.init_node(\"grip_changer\")\n",
    "print \"Node init done\""
   ]
  },
  {
   "cell_type": "code",
   "execution_count": null,
   "metadata": {},
   "outputs": [],
   "source": [
    "client = actionlib.SimpleActionClient('/gripper_controller/gripper_action', GripperCommandAction)\n",
    "print(client)\n",
    "client.wait_for_server()\n",
    "print(\"Server online\")"
   ]
  },
  {
   "cell_type": "code",
   "execution_count": 6,
   "metadata": {},
   "outputs": [
    {
     "data": {
      "text/plain": [
       "True"
      ]
     },
     "execution_count": 6,
     "metadata": {},
     "output_type": "execute_result"
    }
   ],
   "source": [
    "# Close\n",
    "goal = GripperCommandGoal()\n",
    "goal.command.position = 0  # Distance between fingers in m, max: 0.1\n",
    "goal.command.max_effort = 60  # Force by fingers, m\n",
    "client.send_goal(goal)\n",
    "client.wait_for_result(rospy.Duration.from_sec(5.0))"
   ]
  },
  {
   "cell_type": "code",
   "execution_count": 10,
   "metadata": {
    "scrolled": true
   },
   "outputs": [
    {
     "data": {
      "text/plain": [
       "True"
      ]
     },
     "execution_count": 10,
     "metadata": {},
     "output_type": "execute_result"
    }
   ],
   "source": [
    "# Open\n",
    "goal = GripperCommandGoal()\n",
    "goal.command.position = 0.1\n",
    "goal.command.max_effort = 60\n",
    "client.send_goal(goal)\n",
    "client.wait_for_result(rospy.Duration.from_sec(5.0))"
   ]
  }
 ],
 "metadata": {
  "kernelspec": {
   "display_name": "Python 2",
   "language": "python",
   "name": "python2"
  },
  "language_info": {
   "codemirror_mode": {
    "name": "ipython",
    "version": 2
   },
   "file_extension": ".py",
   "mimetype": "text/x-python",
   "name": "python",
   "nbconvert_exporter": "python",
   "pygments_lexer": "ipython2",
   "version": "2.7.6"
  }
 },
 "nbformat": 4,
 "nbformat_minor": 2
}
