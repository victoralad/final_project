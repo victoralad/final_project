{
 "cells": [
  {
   "cell_type": "code",
   "execution_count": 2,
   "metadata": {},
   "outputs": [
    {
     "name": "stdout",
     "output_type": "stream",
     "text": [
      "Node init done\n"
     ]
    }
   ],
   "source": [
    "import rospy\n",
    "import actionlib\n",
    "\n",
    "rospy.init_node(\"body_mover\")\n",
    "print \"Node init done\""
   ]
  },
  {
   "cell_type": "markdown",
   "metadata": {},
   "source": [
    "Via Direct trajectory control\n",
    "------------------------"
   ]
  },
  {
   "cell_type": "code",
   "execution_count": 4,
   "metadata": {},
   "outputs": [
    {
     "name": "stdout",
     "output_type": "stream",
     "text": [
      "<actionlib.simple_action_client.SimpleActionClient instance at 0x7fdd6c18b098>\n",
      "Server online\n"
     ]
    }
   ],
   "source": [
    "# Move torso up & arm out of the way\n",
    "from control_msgs.msg import FollowJointTrajectoryGoal, FollowJointTrajectoryAction\n",
    "from trajectory_msgs.msg import JointTrajectory, JointTrajectoryPoint\n",
    "\n",
    "client = actionlib.SimpleActionClient('/arm_with_torso_controller/follow_joint_trajectory', FollowJointTrajectoryAction)\n",
    "print(client)\n",
    "client.wait_for_server()\n",
    "print(\"Server online\")"
   ]
  },
  {
   "cell_type": "code",
   "execution_count": 9,
   "metadata": {},
   "outputs": [
    {
     "data": {
      "text/plain": [
       "True"
      ]
     },
     "execution_count": 9,
     "metadata": {},
     "output_type": "execute_result"
    }
   ],
   "source": [
    "# Up\n",
    "joint_names = [\"torso_lift_joint\", \"shoulder_pan_joint\",\n",
    "               \"shoulder_lift_joint\", \"upperarm_roll_joint\",\n",
    "               \"elbow_flex_joint\", \"forearm_roll_joint\",\n",
    "               \"wrist_flex_joint\", \"wrist_roll_joint\"]\n",
    "# Lists of joint angles in the same order as in joint_names\n",
    "disco_poses = [0.4, 1.32, 0, 0, 0, 0.0, 0, 0.0]\n",
    "goal = FollowJointTrajectoryGoal()\n",
    "trajectory = JointTrajectory()\n",
    "trajectory.joint_names = joint_names\n",
    "trajectory.points.append(JointTrajectoryPoint())\n",
    "trajectory.points[0].positions = disco_poses\n",
    "trajectory.points[0].velocities = [0.0, 0.0, 0.0, 0.0, 0.0, 0.0, 0.0, 0.0]\n",
    "trajectory.points[0].accelerations = [0.0, 0.0, 0.0, 0.0, 0.0, 0.0, 0.0, 0.0]\n",
    "trajectory.points[0].time_from_start = rospy.Duration(5.0)\n",
    "goal.trajectory = trajectory\n",
    "\n",
    "client.send_goal(goal)\n",
    "client.wait_for_result(rospy.Duration.from_sec(5.0))"
   ]
  },
  {
   "cell_type": "markdown",
   "metadata": {},
   "source": [
    "Via Planning and Execution\n",
    "--"
   ]
  },
  {
   "cell_type": "code",
   "execution_count": 6,
   "metadata": {},
   "outputs": [
    {
     "name": "stdout",
     "output_type": "stream",
     "text": [
      "[INFO] [WallTime: 1544049792.854688] [7782.317000] Waiting for get_planning_scene\n"
     ]
    }
   ],
   "source": [
    "from moveit_msgs.msg import MoveItErrorCodes\n",
    "from moveit_python import MoveGroupInterface, PlanningSceneInterface\n",
    "\n",
    "# rospy.init_node(\"move_torso_up\")\n",
    "\n",
    "# Create move group interface for a fetch robot\n",
    "move_group = MoveGroupInterface(\"arm_with_torso\", \"base_link\")\n",
    "\n",
    "# Define ground plane\n",
    "# This creates objects in the planning scene that mimic the ground\n",
    "# If these were not in place gripper could hit the ground\n",
    "planning_scene = PlanningSceneInterface(\"base_link\")\n",
    "planning_scene.removeCollisionObject(\"my_front_ground\")\n",
    "planning_scene.removeCollisionObject(\"my_back_ground\")\n",
    "planning_scene.removeCollisionObject(\"my_right_ground\")\n",
    "planning_scene.removeCollisionObject(\"my_left_ground\")\n",
    "planning_scene.addCube(\"my_front_ground\", 2, 1.1, 0.0, -1.0)\n",
    "planning_scene.addCube(\"my_back_ground\", 2, -1.2, 0.0, -1.0)\n",
    "planning_scene.addCube(\"my_left_ground\", 2, 0.0, 1.2, -1.0)\n",
    "planning_scene.addCube(\"my_right_ground\", 2, 0.0, -1.2, -1.0)\n",
    "# Add table + object --> Hard coded, ! Have to lift arm beforehand, else stuck\n",
    "planning_scene.removeCollisionObject(\"table\")\n",
    "planning_scene.addCube(\"table\", 2, 1.1, 0.0, 0.82+0.1-1)"
   ]
  },
  {
   "cell_type": "code",
   "execution_count": null,
   "metadata": {},
   "outputs": [],
   "source": [
    "# TF joint names\n",
    "joint_names = [\"torso_lift_joint\", \"shoulder_pan_joint\",\n",
    "               \"shoulder_lift_joint\", \"upperarm_roll_joint\",\n",
    "               \"elbow_flex_joint\", \"forearm_roll_joint\",\n",
    "               \"wrist_flex_joint\", \"wrist_roll_joint\"]\n",
    "# Lists of joint angles in the same order as in joint_names\n",
    "disco_poses = [[4.0, 1.32, 1.40, -0.2, 1.72, 0.0, 1.66, 0.0]] # Max torso and keep arm out\n",
    "\n",
    "for pose in disco_poses:\n",
    "    if rospy.is_shutdown():\n",
    "        break\n",
    "\n",
    "    # Plans the joints in joint_names to angles in pose\n",
    "    move_group.moveToJointPosition(joint_names, pose, wait=False)\n",
    "\n",
    "    # Since we passed in wait=False above we need to wait here\n",
    "    move_group.get_move_action().wait_for_result()\n",
    "    result = move_group.get_move_action().get_result()\n",
    "\n",
    "    if result:\n",
    "        # Checking the MoveItErrorCode\n",
    "        if result.error_code.val == MoveItErrorCodes.SUCCESS:\n",
    "            rospy.loginfo(\"Extended Torso.\")\n",
    "        else:\n",
    "            # If you get to this point please search for:\n",
    "            # moveit_msgs/MoveItErrorCodes.msg\n",
    "            rospy.logerr(\"Arm goal in state: %s\",\n",
    "                         move_group.get_move_action().get_state())\n",
    "    else:\n",
    "        rospy.logerr(\"MoveIt! failure no result returned.\")\n",
    "\n",
    "# This stops all arm movement goals\n",
    "# It should be called when a program is exiting so movement stops\n",
    "move_group.get_move_action().cancel_all_goals()"
   ]
  },
  {
   "cell_type": "markdown",
   "metadata": {},
   "source": [
    "Receive Planned grasp, plan trajectory to it and execute\n",
    "---"
   ]
  },
  {
   "cell_type": "code",
   "execution_count": 3,
   "metadata": {},
   "outputs": [
    {
     "name": "stdout",
     "output_type": "stream",
     "text": [
      "header: \n",
      "  seq: 3\n",
      "  stamp: \n",
      "    secs: 7757\n",
      "    nsecs: 887000000\n",
      "  frame_id: base_link\n",
      "pose: \n",
      "  position: \n",
      "    x: 0.333381367002\n",
      "    y: 0.121938478083\n",
      "    z: 0.819283122622\n",
      "  orientation: \n",
      "    x: 0.572876289032\n",
      "    y: -0.426284393192\n",
      "    z: -0.507969358806\n",
      "    w: -0.48172762439\n"
     ]
    }
   ],
   "source": [
    "from geometry_msgs.msg import PoseStamped, Pose, Point, Quaternion\n",
    "# Receive message from planner\n",
    "planned_pose = rospy.wait_for_message(\"/planned_grasp\", PoseStamped, timeout=None)\n",
    "print planned_pose"
   ]
  },
  {
   "cell_type": "code",
   "execution_count": 7,
   "metadata": {},
   "outputs": [
    {
     "name": "stdout",
     "output_type": "stream",
     "text": [
      "Old goal: \n",
      "x: 0.333381367002\n",
      "y: 0.121938478083\n",
      "z: 0.819283122622\n",
      "New goal: \n",
      "x: 0.277175311265\n",
      "y: 0.121477017944\n",
      "z: 1.28233416609\n",
      "0\n",
      "x: 0.277175311265\n",
      "y: 0.121477017944\n",
      "z: 1.28233416609\n",
      "1\n",
      "x: 0.281191894374\n",
      "y: 0.121509994693\n",
      "z: 1.24924372814\n",
      "2\n",
      "x: 0.285208477483\n",
      "y: 0.121542971442\n",
      "z: 1.21615329018\n",
      "3\n",
      "x: 0.289225060592\n",
      "y: 0.121575948191\n",
      "z: 1.18306285223\n",
      "4\n",
      "x: 0.293241643701\n",
      "y: 0.121608924941\n",
      "z: 1.14997241428\n",
      "5\n",
      "x: 0.29725822681\n",
      "y: 0.12164190169\n",
      "z: 1.11688197633\n",
      "6\n",
      "x: 0.301274809919\n",
      "y: 0.121674878439\n",
      "z: 1.08379153838\n",
      "7\n",
      "x: 0.305291393028\n",
      "y: 0.121707855188\n",
      "z: 1.05070110043\n",
      "8\n",
      "x: 0.309307976138\n",
      "y: 0.121740831937\n",
      "z: 1.01761066248\n",
      "9\n",
      "x: 0.313324559247\n",
      "y: 0.121773808686\n",
      "z: 0.984520224529\n"
     ]
    }
   ],
   "source": [
    "# Plan and Move to a goal pose\n",
    "# This is the wrist link not the gripper itself\n",
    "# The middle between the gripper fingers is 0.16645 m along the x axis\n",
    "gripper_frame = 'wrist_roll_link'\n",
    "# Position and rotation of two \"wave end poses\"\n",
    "goal_point = planned_pose.pose.position\n",
    "final_point = Point()\n",
    "final_point.x = goal_point.x\n",
    "final_point.y = goal_point.y\n",
    "final_point.z = goal_point.z\n",
    "goal_quart = planned_pose.pose.orientation\n",
    "print \"Old goal: \\n\" + goal_point.__str__()\n",
    "\n",
    "# want to move in negative x direction as encoded by the quarternion\n",
    "offset = 0.16645   # Offset between gripper and controled link\n",
    "distance_approach = 0.3 + offset  # distance from which to start the approach\n",
    "import tf\n",
    "matrix = tf.transformations.quaternion_matrix([goal_quart.x,goal_quart.y,goal_quart.z,goal_quart.w])\n",
    "# print matrix\n",
    "goal_point.x -= distance_approach*matrix[0][0]\n",
    "goal_point.y -= distance_approach*matrix[1][0]\n",
    "goal_point.z -= distance_approach*matrix[2][0]\n",
    "final_point.x -= offset*matrix[0][0]\n",
    "final_point.y -= offset*matrix[1][0]\n",
    "final_point.z -= offset*matrix[2][0]\n",
    "\n",
    "print \"New goal: \\n\" + goal_point.__str__()\n",
    "gripper_poses = []\n",
    "for i in range(10):\n",
    "    print i\n",
    "    point = Point()\n",
    "    point.x = goal_point.x * (9-i)/9 + final_point.x *i/9\n",
    "    point.y = goal_point.y * (9-i)/9 + final_point.y *i/9\n",
    "    point.z = goal_point.z * (9-i)/9 + final_point.z *i/9\n",
    "    print point\n",
    "    gripper_poses.append(Pose(point,goal_quart))\n",
    "\n",
    "## For Debug in Rviz\n",
    "#from std_msgs.msg import Header\n",
    "#now = rospy.get_rostime()\n",
    "#hdr = Header(stamp=now, frame_id='base_link')\n",
    "#pose_msg = PoseStamped(header=hdr, pose=Pose(goal_point, goal_quart))\n",
    "#print pose_msg\n",
    "#pub = rospy.Publisher('/test', PoseStamped, queue_size=1, latch=True)\n",
    "#pub.publish(pose_msg)"
   ]
  },
  {
   "cell_type": "code",
   "execution_count": 8,
   "metadata": {},
   "outputs": [
    {
     "name": "stdout",
     "output_type": "stream",
     "text": [
      "[INFO] [WallTime: 1544049811.382135] [7793.742000] Hello there!\n",
      "[INFO] [WallTime: 1544049812.830312] [7794.718000] Hello there!\n",
      "[INFO] [WallTime: 1544049814.379908] [7795.718000] Hello there!\n",
      "[INFO] [WallTime: 1544049815.853443] [7796.739000] Hello there!\n",
      "[INFO] [WallTime: 1544049817.452260] [7797.749000] Hello there!\n",
      "[INFO] [WallTime: 1544049819.169407] [7798.744000] Hello there!\n",
      "[INFO] [WallTime: 1544049820.765163] [7799.754000] Hello there!\n",
      "[INFO] [WallTime: 1544049822.327051] [7800.750000] Hello there!\n",
      "[INFO] [WallTime: 1544049824.072953] [7801.744000] Hello there!\n",
      "[INFO] [WallTime: 1544049826.041543] [7802.951000] Hello there!\n"
     ]
    },
    {
     "name": "stderr",
     "output_type": "stream",
     "text": [
      "[WARN] [WallTime: 1544049880.058372] [7838.113000] Detected jump back in time of 0.001000s. Clearing TF buffer.\n"
     ]
    }
   ],
   "source": [
    "# Construct a \"pose_stamped\" message as required by moveToPose\n",
    "gripper_pose_stamped = PoseStamped()\n",
    "gripper_pose_stamped.header.frame_id = 'base_link'\n",
    "\n",
    "# while not rospy.is_shutdown():\n",
    "for pose in gripper_poses:\n",
    "    # Finish building the Pose_stamped message\n",
    "    # If the message stamp is not current it could be ignored\n",
    "    gripper_pose_stamped.header.stamp = rospy.Time.now()\n",
    "    # Set the message pose\n",
    "    gripper_pose_stamped.pose = pose\n",
    "\n",
    "    # Move gripper frame to the pose specified\n",
    "    move_group.moveToPose(gripper_pose_stamped, gripper_frame)\n",
    "    result = move_group.get_move_action().get_result()\n",
    "    planning_scene.removeCollisionObject(\"table\") # Only needed for first move\n",
    "\n",
    "    if result:\n",
    "        # Checking the MoveItErrorCode\n",
    "        if result.error_code.val == MoveItErrorCodes.SUCCESS:\n",
    "            rospy.loginfo(\"Hello there!\")\n",
    "        else:\n",
    "            # If you get to this point please search for:\n",
    "            # moveit_msgs/MoveItErrorCodes.msg\n",
    "            rospy.logerr(\"Arm goal in state: %s\",\n",
    "                         move_group.get_move_action().get_state())\n",
    "    else:\n",
    "        rospy.logerr(\"MoveIt! failure no result returned.\")\n",
    "\n",
    "# This stops all arm movement goals\n",
    "# It should be called when a program is exiting so movement stops\n",
    "move_group.get_move_action().cancel_all_goals()"
   ]
  },
  {
   "cell_type": "code",
   "execution_count": null,
   "metadata": {},
   "outputs": [],
   "source": []
  }
 ],
 "metadata": {
  "kernelspec": {
   "display_name": "Python 2",
   "language": "python",
   "name": "python2"
  },
  "language_info": {
   "codemirror_mode": {
    "name": "ipython",
    "version": 2
   },
   "file_extension": ".py",
   "mimetype": "text/x-python",
   "name": "python",
   "nbconvert_exporter": "python",
   "pygments_lexer": "ipython2",
   "version": "2.7.6"
  }
 },
 "nbformat": 4,
 "nbformat_minor": 2
}
